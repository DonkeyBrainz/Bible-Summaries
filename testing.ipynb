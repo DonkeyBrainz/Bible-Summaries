{
 "cells": [
  {
   "cell_type": "code",
   "execution_count": 45,
   "metadata": {},
   "outputs": [
    {
     "name": "stdout",
     "output_type": "stream",
     "text": [
      "Adding Genesis to books, starting idx 167\n"
     ]
    },
    {
     "ename": "TypeError",
     "evalue": "unhashable type: 'list'",
     "output_type": "error",
     "traceback": [
      "\u001b[0;31m---------------------------------------------------------------------------\u001b[0m",
      "\u001b[0;31mTypeError\u001b[0m                                 Traceback (most recent call last)",
      "\u001b[1;32m/workspaces/Bible-Summaries/testing.ipynb Cell 1\u001b[0m in \u001b[0;36m<cell line: 25>\u001b[0;34m()\u001b[0m\n\u001b[1;32m     <a href='vscode-notebook-cell://codespaces%2Bmowgl-i-donkeybrainz-bible-summaries-7j45wp5j2g4v/workspaces/Bible-Summaries/testing.ipynb#X14sdnNjb2RlLXJlbW90ZQ%3D%3D?line=37'>38</a>\u001b[0m     tmp_book \u001b[39m=\u001b[39m current_book_name \n\u001b[1;32m     <a href='vscode-notebook-cell://codespaces%2Bmowgl-i-donkeybrainz-bible-summaries-7j45wp5j2g4v/workspaces/Bible-Summaries/testing.ipynb#X14sdnNjb2RlLXJlbW90ZQ%3D%3D?line=38'>39</a>\u001b[0m \u001b[39melse\u001b[39;00m:\n\u001b[0;32m---> <a href='vscode-notebook-cell://codespaces%2Bmowgl-i-donkeybrainz-bible-summaries-7j45wp5j2g4v/workspaces/Bible-Summaries/testing.ipynb#X14sdnNjb2RlLXJlbW90ZQ%3D%3D?line=39'>40</a>\u001b[0m     books_idx[tmp_book]\u001b[39m.\u001b[39mappend(i)\n\u001b[1;32m     <a href='vscode-notebook-cell://codespaces%2Bmowgl-i-donkeybrainz-bible-summaries-7j45wp5j2g4v/workspaces/Bible-Summaries/testing.ipynb#X14sdnNjb2RlLXJlbW90ZQ%3D%3D?line=40'>41</a>\u001b[0m tmp_book \u001b[39m=\u001b[39m current_book_name\n\u001b[1;32m     <a href='vscode-notebook-cell://codespaces%2Bmowgl-i-donkeybrainz-bible-summaries-7j45wp5j2g4v/workspaces/Bible-Summaries/testing.ipynb#X14sdnNjb2RlLXJlbW90ZQ%3D%3D?line=41'>42</a>\u001b[0m books\u001b[39m.\u001b[39mappend(current_book_name)\n",
      "\u001b[0;31mTypeError\u001b[0m: unhashable type: 'list'"
     ]
    }
   ],
   "source": [
    "import os \n",
    "output = \"books\"\n",
    "if not os.path.exists(output):\n",
    "    os.makedirs(output)\n",
    "\n",
    "lines = open(\"pg1581.txt\", \"r\").readlines()\n",
    "\n",
    "books = [] \n",
    "books_idx = {}\n",
    "# there are books which are First of, second of etc \n",
    "# we need to pick up their names \n",
    "multinames = [\"Kings\", \"Paralipomenon\", \"Esdras\", \"Machabees\",\n",
    "              \"Corinthians\",\"Thessalonians\", \"Timothy\", \"Peter\", \"John\"]\n",
    "# then collect the name of the old testament books\n",
    "old_books = [\"Genesis\", \"Exodus\", \"Leviticus\", \"Numbers\", \"Deuteronomy\",\"Josue\", \n",
    "             \"Judges\", \"Ruth\", \"1Kings\", \"2Kings\", \"3Kings\", \"4Kings\", \n",
    "             \"1Paralipomenon\",\"2Paralipomenon\", \"1Esdras\", \"2Esdras\", \n",
    "             \"Tobias\", \"Judith\", \"Esther\", \"Job\", \"Psalms\", \"Proverbs\", \n",
    "             \"Ecclesiastes\", \"Canticle\", \"Wisdom\", \"Ecclesiasticus\", \"Isaias\", \n",
    "             \"Jeremias\", \"Lamentations\", \"Baruch\", \"Ezechiel\", \n",
    "             \"Daniel\", \"Osee\", \"Joel\", \"Amos\", \"Abdias\", \"Joans\", \"Micheas\",\n",
    "             \"Nahum\", \"Habacuc\", \"Sophonias\", \"Aggeus\", \"Zacharias\", \"Malachias\", \n",
    "             \"1Machabees\", \"2Machabees\"]\n",
    "\n",
    "for i, val in enumerate(lines, 0):\n",
    "    # retireve all the chapters \n",
    "    if \"Chapter\" in val:\n",
    "        book_name = val.split()[0]\n",
    "        possible_further_name = val.split()[1]\n",
    "        if possible_further_name in multinames: \n",
    "            current_book_name = book_name + possible_further_name \n",
    "        else: \n",
    "            current_book_name = book_name\n",
    "            \n",
    "        if not current_book_name in books:        \n",
    "            print(f\"Adding {current_book_name} to books, starting idx {i}\")\n",
    "            if i==0:\n",
    "                tmp_book = current_book_name \n",
    "            else:\n",
    "                books_idx[tmp_book].append(i)\n",
    "            tmp_book = current_book_name\n",
    "            books.append(current_book_name)\n",
    "            books_idx[current_book_name] = [i]"
   ]
  }
 ],
 "metadata": {
  "kernelspec": {
   "display_name": "Python 3.10.4 64-bit",
   "language": "python",
   "name": "python3"
  },
  "language_info": {
   "codemirror_mode": {
    "name": "ipython",
    "version": 3
   },
   "file_extension": ".py",
   "mimetype": "text/x-python",
   "name": "python",
   "nbconvert_exporter": "python",
   "pygments_lexer": "ipython3",
   "version": "3.10.4"
  },
  "orig_nbformat": 4,
  "vscode": {
   "interpreter": {
    "hash": "4f946df053fbf2b937619d3c5458e7af74262f9a954d8797ba0b27400bcafe06"
   }
  }
 },
 "nbformat": 4,
 "nbformat_minor": 2
}
